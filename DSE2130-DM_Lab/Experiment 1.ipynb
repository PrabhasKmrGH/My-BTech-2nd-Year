{
 "cells": [
  {
   "cell_type": "markdown",
   "metadata": {},
   "source": "## Exercise 1",
   "id": "f6be9cf06dc71552"
  },
  {
   "metadata": {},
   "cell_type": "markdown",
   "source": "### Part A: Data Structures",
   "id": "3c983c4f60bb8bd8"
  },
  {
   "cell_type": "markdown",
   "metadata": {},
   "source": "Q1(a). Create a list of 10 integers.",
   "id": "dde184925cca976d"
  },
  {
   "cell_type": "code",
   "metadata": {
    "ExecuteTime": {
     "end_time": "2025-10-07T15:06:01.531084Z",
     "start_time": "2025-10-07T15:06:01.523965Z"
    }
   },
   "source": [
    "nums = [42, 7, 13, 99, 23, 5, 81, 60, 17, 34]\n",
    "print(\"List:\", nums)"
   ],
   "id": "fc27bcf4aa543ddd",
   "outputs": [
    {
     "name": "stdout",
     "output_type": "stream",
     "text": [
      "List: [42, 7, 13, 99, 23, 5, 81, 60, 17, 34]\n"
     ]
    }
   ],
   "execution_count": 1
  },
  {
   "cell_type": "markdown",
   "metadata": {},
   "source": "Q1(b). Add a new element at the end.",
   "id": "aabddfedd6282433"
  },
  {
   "cell_type": "code",
   "metadata": {
    "ExecuteTime": {
     "end_time": "2025-10-07T15:06:01.618182Z",
     "start_time": "2025-10-07T15:06:01.596284Z"
    }
   },
   "source": [
    "nums = [42, 7, 13, 99, 23, 5, 81, 60, 17, 34]\n",
    "nums.append(88)\n",
    "print(\"After append:\", nums)"
   ],
   "id": "7dcaada6ccd7c943",
   "outputs": [
    {
     "name": "stdout",
     "output_type": "stream",
     "text": [
      "After append: [42, 7, 13, 99, 23, 5, 81, 60, 17, 34, 88]\n"
     ]
    }
   ],
   "execution_count": 2
  },
  {
   "cell_type": "markdown",
   "metadata": {},
   "source": "Q1(c). Remove the second element.",
   "id": "b4827297fa57a35f"
  },
  {
   "cell_type": "code",
   "metadata": {
    "ExecuteTime": {
     "end_time": "2025-10-07T15:06:01.672198Z",
     "start_time": "2025-10-07T15:06:01.664244Z"
    }
   },
   "source": [
    "nums = [42, 7, 13, 99, 23, 5, 81, 60, 17, 34]\n",
    "removed = nums.pop(1)\n",
    "print(\"Removed element:\", removed)\n",
    "print(\"List now:\", nums)"
   ],
   "id": "d38ddd87cc2b93cb",
   "outputs": [
    {
     "name": "stdout",
     "output_type": "stream",
     "text": [
      "Removed element: 7\n",
      "List now: [42, 13, 99, 23, 5, 81, 60, 17, 34]\n"
     ]
    }
   ],
   "execution_count": 3
  },
  {
   "cell_type": "markdown",
   "metadata": {},
   "source": "Q1(d). Sort the list in ascending order.",
   "id": "1befdb3569af4e79"
  },
  {
   "cell_type": "code",
   "metadata": {
    "ExecuteTime": {
     "end_time": "2025-10-07T15:06:01.724715Z",
     "start_time": "2025-10-07T15:06:01.721813Z"
    }
   },
   "source": [
    "nums = [42, 7, 13, 99, 23, 5, 81, 60, 17, 34]\n",
    "nums.sort()\n",
    "print(\"Sorted ascending:\", nums)"
   ],
   "id": "b164136d9daf07a9",
   "outputs": [
    {
     "name": "stdout",
     "output_type": "stream",
     "text": [
      "Sorted ascending: [5, 7, 13, 17, 23, 34, 42, 60, 81, 99]\n"
     ]
    }
   ],
   "execution_count": 4
  },
  {
   "cell_type": "markdown",
   "metadata": {},
   "source": "Q2(a). Create a tuple containing 5 city names.",
   "id": "bb13547a6db7535f"
  },
  {
   "cell_type": "code",
   "metadata": {
    "ExecuteTime": {
     "end_time": "2025-10-07T15:06:01.805455Z",
     "start_time": "2025-10-07T15:06:01.779049Z"
    }
   },
   "source": "cities = (\"Mumbai\", \"Delhi\", \"Bengaluru\", \"Kolkata\", \"Chennai\")\nprint(\"Cities tuple:\", cities)",
   "id": "87223774efa95e7f",
   "outputs": [
    {
     "name": "stdout",
     "output_type": "stream",
     "text": [
      "Cities tuple: ('Mumbai', 'Delhi', 'Bengaluru', 'Kolkata', 'Chennai')\n"
     ]
    }
   ],
   "execution_count": 5
  },
  {
   "cell_type": "markdown",
   "metadata": {},
   "source": "Q2(b). Access and print the third city.**",
   "id": "86834ba75a84dbac"
  },
  {
   "cell_type": "code",
   "metadata": {
    "ExecuteTime": {
     "end_time": "2025-10-07T15:06:01.862667Z",
     "start_time": "2025-10-07T15:06:01.856503Z"
    }
   },
   "source": [
    "cities = (\"Mumbai\", \"Delhi\", \"Bengaluru\", \"Kolkata\", \"Chennai\")\n",
    "print(\"Third city:\", cities[2])"
   ],
   "id": "936f88f354dfeed2",
   "outputs": [
    {
     "name": "stdout",
     "output_type": "stream",
     "text": [
      "Third city: Bengaluru\n"
     ]
    }
   ],
   "execution_count": 6
  },
  {
   "cell_type": "markdown",
   "metadata": {},
   "source": "Q3(a). Create two sets of integers.",
   "id": "3917648c732e8db7"
  },
  {
   "cell_type": "code",
   "metadata": {
    "ExecuteTime": {
     "end_time": "2025-10-07T15:06:01.898529Z",
     "start_time": "2025-10-07T15:06:01.892226Z"
    }
   },
   "source": "A = {1, 2, 3, 5, 8}\nB = {3, 5, 7, 9}\nprint(\"Set A:\", A)\nprint(\"Set B:\", B)",
   "id": "f91450aa1bae2188",
   "outputs": [
    {
     "name": "stdout",
     "output_type": "stream",
     "text": [
      "Set A: {1, 2, 3, 5, 8}\n",
      "Set B: {9, 3, 5, 7}\n"
     ]
    }
   ],
   "execution_count": 7
  },
  {
   "cell_type": "markdown",
   "metadata": {},
   "source": "Q3(b). Perform union, intersection, and difference operations.",
   "id": "760d9b47dcd062bf"
  },
  {
   "cell_type": "code",
   "metadata": {
    "ExecuteTime": {
     "end_time": "2025-10-07T15:06:01.949306Z",
     "start_time": "2025-10-07T15:06:01.939584Z"
    }
   },
   "source": "A = {1, 2, 3, 5, 8}\nB = {3, 5, 7, 9}\nprint(\"Union (A | B):\", A | B)\nprint(\"Intersection (A & B):\", A & B)\nprint(\"Difference (A - B):\", A - B)",
   "id": "1637cf8f19bc649",
   "outputs": [
    {
     "name": "stdout",
     "output_type": "stream",
     "text": [
      "Union (A | B): {1, 2, 3, 5, 7, 8, 9}\n",
      "Intersection (A & B): {3, 5}\n",
      "Difference (A - B): {8, 1, 2}\n"
     ]
    }
   ],
   "execution_count": 8
  },
  {
   "cell_type": "markdown",
   "metadata": {},
   "source": "Q4(a). Create a dictionary storing roll numbers as keys and names as values.",
   "id": "572092a0b7e04caa"
  },
  {
   "cell_type": "code",
   "metadata": {
    "ExecuteTime": {
     "end_time": "2025-10-07T15:06:02.046847Z",
     "start_time": "2025-10-07T15:06:02.022804Z"
    }
   },
   "source": "students = {101: \"Aarav\", 102: \"Diya\", 103: \"Kabir\"}\nprint(students)",
   "id": "b0ae1031f9b04e86",
   "outputs": [
    {
     "name": "stdout",
     "output_type": "stream",
     "text": [
      "{101: 'Aarav', 102: 'Diya', 103: 'Kabir'}\n"
     ]
    }
   ],
   "execution_count": 9
  },
  {
   "cell_type": "markdown",
   "metadata": {},
   "source": "Q4(b). Add one more key-value pair.",
   "id": "5fcb7a0f170de4ac"
  },
  {
   "cell_type": "code",
   "metadata": {
    "ExecuteTime": {
     "end_time": "2025-10-07T15:06:02.119952Z",
     "start_time": "2025-10-07T15:06:02.106107Z"
    }
   },
   "source": "students = {101: \"Aarav\", 102: \"Diya\", 103: \"Kabir\"}\nstudents[104] = \"Meera\"\nprint(students)",
   "id": "25cd33d49ca2f314",
   "outputs": [
    {
     "name": "stdout",
     "output_type": "stream",
     "text": [
      "{101: 'Aarav', 102: 'Diya', 103: 'Kabir', 104: 'Meera'}\n"
     ]
    }
   ],
   "execution_count": 10
  },
  {
   "cell_type": "markdown",
   "metadata": {},
   "source": "Q4(c). Retrieve a value using its key.",
   "id": "3781874a3f47dfe8"
  },
  {
   "cell_type": "code",
   "metadata": {
    "ExecuteTime": {
     "end_time": "2025-10-07T15:06:02.161814Z",
     "start_time": "2025-10-07T15:06:02.157377Z"
    }
   },
   "source": "students = {101: \"Aarav\", 102: \"Diya\", 103: \"Kabir\", 104: \"Meera\"}\nroll = 103\nprint(f\"Name for roll {roll}:\", students.get(roll))",
   "id": "df1ef821c586c125",
   "outputs": [
    {
     "name": "stdout",
     "output_type": "stream",
     "text": [
      "Name for roll 103: Kabir\n"
     ]
    }
   ],
   "execution_count": 11
  },
  {
   "cell_type": "markdown",
   "metadata": {},
   "source": "### Part B: Operators",
   "id": "87f4d79571c33595"
  },
  {
   "cell_type": "markdown",
   "metadata": {},
   "source": "Q1. Arithmetic Operators — take two numbers and display sum, difference, product, quotient.",
   "id": "1fb06ec85f268a16"
  },
  {
   "cell_type": "code",
   "metadata": {
    "ExecuteTime": {
     "end_time": "2025-10-07T15:06:02.192070Z",
     "start_time": "2025-10-07T15:06:02.184122Z"
    }
   },
   "source": [
    "a, b = 20, 6\n",
    "print(\"a + b =\", a + b)\n",
    "print(\"a - b =\", a - b)\n",
    "print(\"a * b =\", a * b)\n",
    "print(\"a / b =\", a / b)"
   ],
   "id": "2e5422aec3dcdb29",
   "outputs": [
    {
     "name": "stdout",
     "output_type": "stream",
     "text": [
      "a + b = 26\n",
      "a - b = 14\n",
      "a * b = 120\n",
      "a / b = 3.3333333333333335\n"
     ]
    }
   ],
   "execution_count": 12
  },
  {
   "cell_type": "markdown",
   "metadata": {},
   "source": "Q2. Relational Operators — compare two numbers.",
   "id": "1be7531ddf758645"
  },
  {
   "cell_type": "code",
   "metadata": {
    "ExecuteTime": {
     "end_time": "2025-10-07T15:06:02.229571Z",
     "start_time": "2025-10-07T15:06:02.223546Z"
    }
   },
   "source": "x, y = 15, 20\nif x > y:\n    print(\"First is greater\")\nelif x < y:\n    print(\"First is less\")\nelse:\n    print(\"Both are equal\")",
   "id": "18bf47013f4a8341",
   "outputs": [
    {
     "name": "stdout",
     "output_type": "stream",
     "text": [
      "First is less\n"
     ]
    }
   ],
   "execution_count": 13
  },
  {
   "cell_type": "markdown",
   "metadata": {},
   "source": "Q3. Logical Operators — and, or, not.",
   "id": "541767f931059b61"
  },
  {
   "cell_type": "code",
   "metadata": {
    "ExecuteTime": {
     "end_time": "2025-10-07T15:06:02.264482Z",
     "start_time": "2025-10-07T15:06:02.257650Z"
    }
   },
   "source": "p, q = True, False\nprint(\"p and q =\", p and q)\nprint(\"p or q =\", p or q)\nprint(\"not p =\", not p)",
   "id": "5f8bb30650f4e286",
   "outputs": [
    {
     "name": "stdout",
     "output_type": "stream",
     "text": [
      "p and q = False\n",
      "p or q = True\n",
      "not p = False\n"
     ]
    }
   ],
   "execution_count": 14
  },
  {
   "cell_type": "markdown",
   "metadata": {},
   "source": "Q4. Membership Operators — check if an element exists in a list.",
   "id": "51f51b6755cf29b"
  },
  {
   "cell_type": "code",
   "metadata": {
    "ExecuteTime": {
     "end_time": "2025-10-07T15:06:02.300394Z",
     "start_time": "2025-10-07T15:06:02.297110Z"
    }
   },
   "source": "lst = [3, 6, 9, 12]\nelem = 9\nprint(elem, \"in list?\", elem in lst)",
   "id": "28ce2022896bec65",
   "outputs": [
    {
     "name": "stdout",
     "output_type": "stream",
     "text": [
      "9 in list? True\n"
     ]
    }
   ],
   "execution_count": 15
  },
  {
   "cell_type": "markdown",
   "metadata": {},
   "source": "Q5. Identity Operators — check if two variables refer to the same object.",
   "id": "8feda40855b7c685"
  },
  {
   "cell_type": "code",
   "metadata": {
    "ExecuteTime": {
     "end_time": "2025-10-07T15:06:02.329342Z",
     "start_time": "2025-10-07T15:06:02.324317Z"
    }
   },
   "source": [
    "a = [1, 2, 3]\n",
    "b = a\n",
    "c = [1, 2, 3]\n",
    "print(\"a is b:\", a is b)\n",
    "print(\"a is c:\", a is c)\n",
    "print(\"a == c (values equal):\", a == c)"
   ],
   "id": "1c77f29a4ba59e44",
   "outputs": [
    {
     "name": "stdout",
     "output_type": "stream",
     "text": [
      "a is b: True\n",
      "a is c: False\n",
      "a == c (values equal): True\n"
     ]
    }
   ],
   "execution_count": 16
  },
  {
   "cell_type": "markdown",
   "metadata": {},
   "source": "## Exercise 2",
   "id": "38f6a8117f5c0e6f"
  },
  {
   "metadata": {},
   "cell_type": "markdown",
   "source": "### Part A – Data Structures",
   "id": "bbff03800267cc3f"
  },
  {
   "cell_type": "markdown",
   "metadata": {},
   "source": "Q1(i). Create a list of student roll numbers.",
   "id": "7ffc4619a2d3978"
  },
  {
   "cell_type": "code",
   "metadata": {
    "ExecuteTime": {
     "end_time": "2025-10-07T15:06:02.343608Z",
     "start_time": "2025-10-07T15:06:02.339686Z"
    }
   },
   "source": "roll_numbers = [101, 104, 103, 102, 110]\nprint(\"Roll numbers:\", roll_numbers)",
   "id": "36d77fdd579883c4",
   "outputs": [
    {
     "name": "stdout",
     "output_type": "stream",
     "text": [
      "Roll numbers: [101, 104, 103, 102, 110]\n"
     ]
    }
   ],
   "execution_count": 17
  },
  {
   "cell_type": "markdown",
   "metadata": {},
   "source": "Q1(ii). Add 2 new roll numbers at the end.",
   "id": "975c4a40ef75c038"
  },
  {
   "cell_type": "code",
   "metadata": {
    "ExecuteTime": {
     "end_time": "2025-10-07T15:06:02.378025Z",
     "start_time": "2025-10-07T15:06:02.374517Z"
    }
   },
   "source": "roll_numbers = [101, 104, 103, 102, 110]\nroll_numbers.extend([115, 108])\nprint(\"After adding:\", roll_numbers)",
   "id": "5cbd76ddbbe49e93",
   "outputs": [
    {
     "name": "stdout",
     "output_type": "stream",
     "text": [
      "After adding: [101, 104, 103, 102, 110, 115, 108]\n"
     ]
    }
   ],
   "execution_count": 18
  },
  {
   "cell_type": "markdown",
   "metadata": {},
   "source": "Q1(iii). Remove any one roll number using `del` or `.remove()`.",
   "id": "89edd457d009c32"
  },
  {
   "cell_type": "code",
   "metadata": {
    "ExecuteTime": {
     "end_time": "2025-10-07T15:06:02.416010Z",
     "start_time": "2025-10-07T15:06:02.412673Z"
    }
   },
   "source": [
    "roll_numbers = [101, 104, 103, 102, 110, 115, 108]\n",
    "roll_numbers.remove(103)\n",
    "print(\"After removal:\", roll_numbers)"
   ],
   "id": "5df17174a89a1e0b",
   "outputs": [
    {
     "name": "stdout",
     "output_type": "stream",
     "text": [
      "After removal: [101, 104, 102, 110, 115, 108]\n"
     ]
    }
   ],
   "execution_count": 19
  },
  {
   "cell_type": "markdown",
   "metadata": {},
   "source": "Q1(iv). Display roll numbers in ascending order.",
   "id": "a8ee48b2584973b4"
  },
  {
   "cell_type": "code",
   "metadata": {
    "ExecuteTime": {
     "end_time": "2025-10-07T15:06:02.448088Z",
     "start_time": "2025-10-07T15:06:02.444234Z"
    }
   },
   "source": "roll_numbers = [101, 104, 102, 110, 115, 108]\nroll_numbers.sort()\nprint(\"Ascending order:\", roll_numbers)",
   "id": "4951ac901cee3310",
   "outputs": [
    {
     "name": "stdout",
     "output_type": "stream",
     "text": [
      "Ascending order: [101, 102, 104, 108, 110, 115]\n"
     ]
    }
   ],
   "execution_count": 20
  },
  {
   "cell_type": "markdown",
   "metadata": {},
   "source": "Q2(i). Store a tuple of subject names.",
   "id": "c8b2a1dfdf82145b"
  },
  {
   "cell_type": "code",
   "metadata": {
    "ExecuteTime": {
     "end_time": "2025-10-07T15:06:02.462088Z",
     "start_time": "2025-10-07T15:06:02.458620Z"
    }
   },
   "source": "subjects = (\"Math\", \"Physics\", \"Chemistry\", \"English\", \"Computer\")\nprint(\"Subjects:\", subjects)",
   "id": "2efcd8d378999bfd",
   "outputs": [
    {
     "name": "stdout",
     "output_type": "stream",
     "text": [
      "Subjects: ('Math', 'Physics', 'Chemistry', 'English', 'Computer')\n"
     ]
    }
   ],
   "execution_count": 21
  },
  {
   "cell_type": "markdown",
   "metadata": {},
   "source": "Q2(ii). Access and display the first and last subjects.",
   "id": "bb70bc3ba1f69228"
  },
  {
   "cell_type": "code",
   "metadata": {
    "ExecuteTime": {
     "end_time": "2025-10-07T15:06:02.541598Z",
     "start_time": "2025-10-07T15:06:02.537291Z"
    }
   },
   "source": "subjects = (\"Math\", \"Physics\", \"Chemistry\", \"English\", \"Computer\")\nprint(\"First subject:\", subjects[0])\nprint(\"Last subject:\", subjects[-1])",
   "id": "876f08ff489ad3b7",
   "outputs": [
    {
     "name": "stdout",
     "output_type": "stream",
     "text": [
      "First subject: Math\n",
      "Last subject: Computer\n"
     ]
    }
   ],
   "execution_count": 22
  },
  {
   "cell_type": "markdown",
   "metadata": {},
   "source": "Q3(a). Create two sets A (football) and B (cricket).",
   "id": "d0f2d5b157c33ec4"
  },
  {
   "cell_type": "code",
   "metadata": {
    "ExecuteTime": {
     "end_time": "2025-10-07T15:06:02.580159Z",
     "start_time": "2025-10-07T15:06:02.576418Z"
    }
   },
   "source": "A = {101, 102, 105, 108}\nB = {102, 104, 108, 110}\nprint(\"Football (A):\", A)\nprint(\"Cricket  (B):\", B)",
   "id": "7d61574330521d59",
   "outputs": [
    {
     "name": "stdout",
     "output_type": "stream",
     "text": [
      "Football (A): {105, 108, 101, 102}\n",
      "Cricket  (B): {104, 102, 108, 110}\n"
     ]
    }
   ],
   "execution_count": 23
  },
  {
   "cell_type": "markdown",
   "metadata": {},
   "source": "Q3(b)(i). Students who play both sports (intersection).",
   "id": "b024f2ca1e1719de"
  },
  {
   "cell_type": "code",
   "metadata": {
    "ExecuteTime": {
     "end_time": "2025-10-07T15:06:02.614667Z",
     "start_time": "2025-10-07T15:06:02.610144Z"
    }
   },
   "source": "A = {101, 102, 105, 108}\nB = {102, 104, 108, 110}\nboth = A & B\nprint(\"Both sports:\", both)",
   "id": "e8e9b38e35175dfa",
   "outputs": [
    {
     "name": "stdout",
     "output_type": "stream",
     "text": [
      "Both sports: {108, 102}\n"
     ]
    }
   ],
   "execution_count": 24
  },
  {
   "cell_type": "markdown",
   "metadata": {},
   "source": "Q3(b)(ii). Students who play only football.",
   "id": "3bcd061c4648c88"
  },
  {
   "cell_type": "code",
   "metadata": {
    "ExecuteTime": {
     "end_time": "2025-10-07T15:06:02.644122Z",
     "start_time": "2025-10-07T15:06:02.640530Z"
    }
   },
   "source": "A = {101, 102, 105, 108}\nB = {102, 104, 108, 110}\nonly_football = A - B\nprint(\"Only football:\", only_football)",
   "id": "81fbda87d90b9eb",
   "outputs": [
    {
     "name": "stdout",
     "output_type": "stream",
     "text": [
      "Only football: {105, 101}\n"
     ]
    }
   ],
   "execution_count": 25
  },
  {
   "cell_type": "markdown",
   "metadata": {},
   "source": "Q3(b)(iii). Students who play either sport (union).",
   "id": "2c94627db3535c2e"
  },
  {
   "cell_type": "code",
   "metadata": {
    "ExecuteTime": {
     "end_time": "2025-10-07T15:06:02.678189Z",
     "start_time": "2025-10-07T15:06:02.674187Z"
    }
   },
   "source": "A = {101, 102, 105, 108}\nB = {102, 104, 108, 110}\neither = A | B\nprint(\"Either sport (union):\", either)",
   "id": "89aceec66bcb78eb",
   "outputs": [
    {
     "name": "stdout",
     "output_type": "stream",
     "text": [
      "Either sport (union): {101, 102, 104, 105, 108, 110}\n"
     ]
    }
   ],
   "execution_count": 26
  },
  {
   "cell_type": "markdown",
   "metadata": {},
   "source": "Q4(i). Create a dictionary mapping roll numbers to student names.",
   "id": "483113207e39ea1f"
  },
  {
   "cell_type": "code",
   "metadata": {
    "ExecuteTime": {
     "end_time": "2025-10-07T15:06:02.714934Z",
     "start_time": "2025-10-07T15:06:02.711113Z"
    }
   },
   "source": "students = {101: \"Aarav\", 102: \"Diya\", 104: \"Ishaan\"}\nprint(students)",
   "id": "ffdee92b43fed4dc",
   "outputs": [
    {
     "name": "stdout",
     "output_type": "stream",
     "text": [
      "{101: 'Aarav', 102: 'Diya', 104: 'Ishaan'}\n"
     ]
    }
   ],
   "execution_count": 27
  },
  {
   "cell_type": "markdown",
   "metadata": {},
   "source": "Q4(ii). Add a new entry.",
   "id": "e114dbf139cb5187"
  },
  {
   "cell_type": "code",
   "metadata": {
    "ExecuteTime": {
     "end_time": "2025-10-07T15:06:02.748051Z",
     "start_time": "2025-10-07T15:06:02.745134Z"
    }
   },
   "source": "students = {101: \"Aarav\", 102: \"Diya\", 104: \"Ishaan\"}\nstudents[108] = \"Meera\"\nprint(students)",
   "id": "81b443ce15b1d70",
   "outputs": [
    {
     "name": "stdout",
     "output_type": "stream",
     "text": [
      "{101: 'Aarav', 102: 'Diya', 104: 'Ishaan', 108: 'Meera'}\n"
     ]
    }
   ],
   "execution_count": 28
  },
  {
   "cell_type": "markdown",
   "metadata": {},
   "source": "Q4(iii). Update the name for an existing roll number.",
   "id": "5a4cc39713ad63d0"
  },
  {
   "cell_type": "code",
   "metadata": {
    "ExecuteTime": {
     "end_time": "2025-10-07T15:06:02.780240Z",
     "start_time": "2025-10-07T15:06:02.776724Z"
    }
   },
   "source": "students = {101: \"Aarav\", 102: \"Diya\", 104: \"Ishaan\", 108: \"Meera\"}\nstudents[102] = \"Diya Sharma\"\nprint(students)",
   "id": "175235378654fbf2",
   "outputs": [
    {
     "name": "stdout",
     "output_type": "stream",
     "text": [
      "{101: 'Aarav', 102: 'Diya Sharma', 104: 'Ishaan', 108: 'Meera'}\n"
     ]
    }
   ],
   "execution_count": 29
  },
  {
   "cell_type": "markdown",
   "metadata": {},
   "source": "Q4(iv). Retrieve and print a student’s name given their roll number.",
   "id": "a87648ce5920005d"
  },
  {
   "cell_type": "code",
   "metadata": {
    "ExecuteTime": {
     "end_time": "2025-10-07T15:06:02.829250Z",
     "start_time": "2025-10-07T15:06:02.813342Z"
    }
   },
   "source": "students = {101: \"Aarav\", 102: \"Diya Sharma\", 104: \"Ishaan\", 108: \"Meera\"}\nquery_roll = 104\nprint(f\"Name for roll {query_roll}:\", students.get(query_roll, \"Not found\"))",
   "id": "201163736a7635ae",
   "outputs": [
    {
     "name": "stdout",
     "output_type": "stream",
     "text": [
      "Name for roll 104: Ishaan\n"
     ]
    }
   ],
   "execution_count": 30
  }
 ],
 "metadata": {
  "kernelspec": {
   "display_name": "Python 3",
   "language": "python",
   "name": "python3"
  },
  "language_info": {
   "name": "python",
   "version": "3.x"
  }
 },
 "nbformat": 4,
 "nbformat_minor": 5
}
